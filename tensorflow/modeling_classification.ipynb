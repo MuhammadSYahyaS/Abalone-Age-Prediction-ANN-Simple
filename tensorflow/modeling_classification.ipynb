{
 "cells": [
  {
   "cell_type": "markdown",
   "metadata": {},
   "source": [
    "# Abalone Age Prediction by Multiclass Classification using ANN"
   ]
  },
  {
   "cell_type": "markdown",
   "metadata": {},
   "source": [
    "## Load dataset for the training process"
   ]
  },
  {
   "cell_type": "code",
   "execution_count": 1,
   "metadata": {},
   "outputs": [],
   "source": [
    "import os\n",
    "import numpy as np\n",
    "import pandas as pd\n",
    "\n",
    "from typing import List"
   ]
  },
  {
   "cell_type": "markdown",
   "metadata": {},
   "source": [
    "### Open the CSV"
   ]
  },
  {
   "cell_type": "code",
   "execution_count": 2,
   "metadata": {},
   "outputs": [
    {
     "name": "stdout",
     "output_type": "stream",
     "text": [
      "Num train: 2924\n",
      "Num val: 418\n"
     ]
    },
    {
     "data": {
      "text/html": [
       "<div>\n",
       "<style scoped>\n",
       "    .dataframe tbody tr th:only-of-type {\n",
       "        vertical-align: middle;\n",
       "    }\n",
       "\n",
       "    .dataframe tbody tr th {\n",
       "        vertical-align: top;\n",
       "    }\n",
       "\n",
       "    .dataframe thead th {\n",
       "        text-align: right;\n",
       "    }\n",
       "</style>\n",
       "<table border=\"1\" class=\"dataframe\">\n",
       "  <thead>\n",
       "    <tr style=\"text-align: right;\">\n",
       "      <th></th>\n",
       "      <th>Sex</th>\n",
       "      <th>Length</th>\n",
       "      <th>Diameter</th>\n",
       "      <th>Height</th>\n",
       "      <th>Whole weight</th>\n",
       "      <th>Shucked weight</th>\n",
       "      <th>Viscera weight</th>\n",
       "      <th>Shell weight</th>\n",
       "      <th>Rings</th>\n",
       "    </tr>\n",
       "  </thead>\n",
       "  <tbody>\n",
       "    <tr>\n",
       "      <th>0</th>\n",
       "      <td>1</td>\n",
       "      <td>0.305</td>\n",
       "      <td>0.225</td>\n",
       "      <td>0.070</td>\n",
       "      <td>0.1485</td>\n",
       "      <td>0.0585</td>\n",
       "      <td>0.0335</td>\n",
       "      <td>0.0450</td>\n",
       "      <td>7</td>\n",
       "    </tr>\n",
       "    <tr>\n",
       "      <th>1</th>\n",
       "      <td>2</td>\n",
       "      <td>0.475</td>\n",
       "      <td>0.370</td>\n",
       "      <td>0.125</td>\n",
       "      <td>0.5095</td>\n",
       "      <td>0.2165</td>\n",
       "      <td>0.1125</td>\n",
       "      <td>0.1650</td>\n",
       "      <td>9</td>\n",
       "    </tr>\n",
       "    <tr>\n",
       "      <th>2</th>\n",
       "      <td>0</td>\n",
       "      <td>0.460</td>\n",
       "      <td>0.370</td>\n",
       "      <td>0.120</td>\n",
       "      <td>0.5335</td>\n",
       "      <td>0.2645</td>\n",
       "      <td>0.1080</td>\n",
       "      <td>0.1345</td>\n",
       "      <td>6</td>\n",
       "    </tr>\n",
       "    <tr>\n",
       "      <th>3</th>\n",
       "      <td>2</td>\n",
       "      <td>0.575</td>\n",
       "      <td>0.450</td>\n",
       "      <td>0.155</td>\n",
       "      <td>0.9480</td>\n",
       "      <td>0.4290</td>\n",
       "      <td>0.2060</td>\n",
       "      <td>0.2590</td>\n",
       "      <td>7</td>\n",
       "    </tr>\n",
       "    <tr>\n",
       "      <th>4</th>\n",
       "      <td>2</td>\n",
       "      <td>0.505</td>\n",
       "      <td>0.440</td>\n",
       "      <td>0.140</td>\n",
       "      <td>0.8275</td>\n",
       "      <td>0.3415</td>\n",
       "      <td>0.1855</td>\n",
       "      <td>0.2390</td>\n",
       "      <td>8</td>\n",
       "    </tr>\n",
       "  </tbody>\n",
       "</table>\n",
       "</div>"
      ],
      "text/plain": [
       "   Sex  Length  Diameter  Height  Whole weight  Shucked weight  \\\n",
       "0    1   0.305     0.225   0.070        0.1485          0.0585   \n",
       "1    2   0.475     0.370   0.125        0.5095          0.2165   \n",
       "2    0   0.460     0.370   0.120        0.5335          0.2645   \n",
       "3    2   0.575     0.450   0.155        0.9480          0.4290   \n",
       "4    2   0.505     0.440   0.140        0.8275          0.3415   \n",
       "\n",
       "   Viscera weight  Shell weight  Rings  \n",
       "0          0.0335        0.0450      7  \n",
       "1          0.1125        0.1650      9  \n",
       "2          0.1080        0.1345      6  \n",
       "3          0.2060        0.2590      7  \n",
       "4          0.1855        0.2390      8  "
      ]
     },
     "execution_count": 2,
     "metadata": {},
     "output_type": "execute_result"
    }
   ],
   "source": [
    "df_train = pd.read_csv(\"abalone_train.csv\")\n",
    "df_val = pd.read_csv(\"abalone_val.csv\")\n",
    "print(\"Num train:\", len(df_train))\n",
    "print(\"Num val:\", len(df_val))\n",
    "df_train.head()"
   ]
  },
  {
   "cell_type": "markdown",
   "metadata": {},
   "source": [
    "### Create dataset for training and validation process"
   ]
  },
  {
   "cell_type": "code",
   "execution_count": 3,
   "metadata": {},
   "outputs": [
    {
     "name": "stderr",
     "output_type": "stream",
     "text": [
      "2023-05-06 18:37:23.293931: I tensorflow/core/util/port.cc:110] oneDNN custom operations are on. You may see slightly different numerical results due to floating-point round-off errors from different computation orders. To turn them off, set the environment variable `TF_ENABLE_ONEDNN_OPTS=0`.\n",
      "2023-05-06 18:37:23.299309: I tensorflow/tsl/cuda/cudart_stub.cc:28] Could not find cuda drivers on your machine, GPU will not be used.\n",
      "2023-05-06 18:37:23.350478: I tensorflow/tsl/cuda/cudart_stub.cc:28] Could not find cuda drivers on your machine, GPU will not be used.\n",
      "2023-05-06 18:37:23.359717: I tensorflow/core/platform/cpu_feature_guard.cc:182] This TensorFlow binary is optimized to use available CPU instructions in performance-critical operations.\n",
      "To enable the following instructions: AVX2 AVX512F AVX512_VNNI FMA, in other operations, rebuild TensorFlow with the appropriate compiler flags.\n",
      "2023-05-06 18:37:24.349600: W tensorflow/compiler/tf2tensorrt/utils/py_utils.cc:38] TF-TRT Warning: Could not find TensorRT\n"
     ]
    }
   ],
   "source": [
    "import tensorflow as tf"
   ]
  },
  {
   "cell_type": "markdown",
   "metadata": {},
   "source": [
    "### Features to be used and target"
   ]
  },
  {
   "cell_type": "code",
   "execution_count": 4,
   "metadata": {},
   "outputs": [],
   "source": [
    "x_names = [\"Sex\", \"Length\", \"Diameter\", \"Height\", \"Whole weight\", \"Shucked weight\", \"Viscera weight\", \"Shell weight\"]\n",
    "y_name = \"Rings\"\n",
    "y_classes = list(range(1, 30)) # 1 to 29 (from EDA)"
   ]
  },
  {
   "cell_type": "markdown",
   "metadata": {},
   "source": [
    "### Convert Pandas dataframe to TF dataset"
   ]
  },
  {
   "cell_type": "code",
   "execution_count": 5,
   "metadata": {},
   "outputs": [],
   "source": [
    "def df_to_dataset(df: pd.DataFrame) -> tf.data.Dataset:\n",
    "    features = df[x_names].to_numpy(dtype=np.float32)\n",
    "    labels = df[[y_name]].to_numpy(dtype=np.int64).squeeze(axis=1)\n",
    "    labels = np.clip(labels, min(y_classes), max(y_classes)) # limit the age range to 1 to 29\n",
    "    labels = labels - 1 # map class #0 to Rings 1\n",
    "    my_dataset = tf.data.Dataset.from_tensor_slices((features, labels))\n",
    "    return my_dataset"
   ]
  },
  {
   "cell_type": "code",
   "execution_count": 6,
   "metadata": {},
   "outputs": [
    {
     "name": "stderr",
     "output_type": "stream",
     "text": [
      "2023-05-06 18:37:25.450323: I tensorflow/compiler/xla/stream_executor/cuda/cuda_gpu_executor.cc:982] could not open file to read NUMA node: /sys/bus/pci/devices/0000:01:00.0/numa_node\n",
      "Your kernel may have been built without NUMA support.\n",
      "2023-05-06 18:37:25.450624: W tensorflow/core/common_runtime/gpu/gpu_device.cc:1956] Cannot dlopen some GPU libraries. Please make sure the missing libraries mentioned above are installed properly if you would like to use GPU. Follow the guide at https://www.tensorflow.org/install/gpu for how to download and setup the required libraries for your platform.\n",
      "Skipping registering GPU devices...\n"
     ]
    }
   ],
   "source": [
    "ds_train = df_to_dataset(df_train)\n",
    "ds_val = df_to_dataset(df_val)"
   ]
  },
  {
   "cell_type": "markdown",
   "metadata": {},
   "source": [
    "### Use the dataset"
   ]
  },
  {
   "cell_type": "code",
   "execution_count": 7,
   "metadata": {},
   "outputs": [],
   "source": [
    "BATCH_SIZE = 64\n",
    "SHUFFLE_BUFFER_SIZE = 128\n",
    "ds_train = ds_train.shuffle(SHUFFLE_BUFFER_SIZE, reshuffle_each_iteration=True).batch(BATCH_SIZE, drop_remainder=True) # drop last for stability\n",
    "ds_val = ds_val.batch(BATCH_SIZE)"
   ]
  },
  {
   "cell_type": "markdown",
   "metadata": {},
   "source": [
    "## Model training"
   ]
  },
  {
   "cell_type": "code",
   "execution_count": 8,
   "metadata": {},
   "outputs": [],
   "source": [
    "from datetime import datetime\n",
    "from tqdm.notebook import tqdm\n",
    "from sklearn.metrics import f1_score, accuracy_score"
   ]
  },
  {
   "cell_type": "code",
   "execution_count": 9,
   "metadata": {},
   "outputs": [],
   "source": [
    "MAX_EPOCHS = 2000\n",
    "INIT_LR = 1e-5"
   ]
  },
  {
   "cell_type": "markdown",
   "metadata": {},
   "source": [
    "### Which device we will use for training process (CPU/GPU)\n",
    "\n",
    "If a TensorFlow operation has both CPU and GPU implementations, by default, the GPU device is prioritized when the operation is assigned. So, no need to manually specify here.\n",
    "\n",
    "*Reference: [Use a GPU](https://www.tensorflow.org/guide/gpu)*"
   ]
  },
  {
   "cell_type": "code",
   "execution_count": 10,
   "metadata": {},
   "outputs": [
    {
     "name": "stdout",
     "output_type": "stream",
     "text": [
      "Num GPUs Available:  0\n"
     ]
    }
   ],
   "source": [
    "print(\"Num GPUs Available: \", len(tf.config.list_physical_devices('GPU')))"
   ]
  },
  {
   "cell_type": "markdown",
   "metadata": {},
   "source": [
    "### Create the model"
   ]
  },
  {
   "cell_type": "code",
   "execution_count": 11,
   "metadata": {},
   "outputs": [],
   "source": [
    "import nets\n",
    "\n",
    "model = nets.MLP(n_classes=len(y_classes))"
   ]
  },
  {
   "cell_type": "markdown",
   "metadata": {},
   "source": [
    "### Define the loss function and the optimizer"
   ]
  },
  {
   "cell_type": "code",
   "execution_count": 12,
   "metadata": {},
   "outputs": [],
   "source": [
    "loss_fn = tf.keras.losses.SparseCategoricalCrossentropy(from_logits=True)\n",
    "optimizer = tf.keras.optimizers.Adam(learning_rate=INIT_LR)"
   ]
  },
  {
   "cell_type": "markdown",
   "metadata": {},
   "source": [
    "### Prepare the logger"
   ]
  },
  {
   "cell_type": "code",
   "execution_count": 13,
   "metadata": {},
   "outputs": [],
   "source": [
    "timestamp = datetime.now().strftime('%Y%m%d_%H%M%S')\n",
    "save_dir = os.path.join('runs_clf', 'train_{}'.format(timestamp))\n",
    "os.makedirs(save_dir, exist_ok=True)\n",
    "writer = tf.summary.create_file_writer(save_dir)\n",
    "writer.set_as_default()"
   ]
  },
  {
   "cell_type": "markdown",
   "metadata": {},
   "source": [
    "### The training and validation process"
   ]
  },
  {
   "cell_type": "markdown",
   "metadata": {},
   "source": [
    "During the training process, launch tensorboard to see the logged train/val metrics\n",
    "```bash\n",
    "tensorboard --logdir runs_clf\n",
    "```\n",
    "Then, open the link using web browser"
   ]
  },
  {
   "cell_type": "code",
   "execution_count": 14,
   "metadata": {},
   "outputs": [
    {
     "data": {
      "application/vnd.jupyter.widget-view+json": {
       "model_id": "608f71a25fa440b2829f8a1d9743b8c4",
       "version_major": 2,
       "version_minor": 0
      },
      "text/plain": [
       "  0%|          | 0/2000 [00:00<?, ?it/s]"
      ]
     },
     "metadata": {},
     "output_type": "display_data"
    },
    {
     "name": "stderr",
     "output_type": "stream",
     "text": [
      "2023-05-06 18:37:26.318368: I tensorflow/core/common_runtime/executor.cc:1197] [/device:CPU:0] (DEBUG INFO) Executor start aborting (this does not indicate an error and you can ignore this message): INVALID_ARGUMENT: You must feed a value for placeholder tensor 'Placeholder/_1' with dtype int64 and shape [2924]\n",
      "\t [[{{node Placeholder/_1}}]]\n",
      "2023-05-06 18:37:26.318576: I tensorflow/core/common_runtime/executor.cc:1197] [/device:CPU:0] (DEBUG INFO) Executor start aborting (this does not indicate an error and you can ignore this message): INVALID_ARGUMENT: You must feed a value for placeholder tensor 'Placeholder/_1' with dtype int64 and shape [2924]\n",
      "\t [[{{node Placeholder/_1}}]]\n",
      "2023-05-06 18:37:28.283475: I tensorflow/core/common_runtime/executor.cc:1197] [/device:CPU:0] (DEBUG INFO) Executor start aborting (this does not indicate an error and you can ignore this message): INVALID_ARGUMENT: You must feed a value for placeholder tensor 'Placeholder/_1' with dtype int64 and shape [418]\n",
      "\t [[{{node Placeholder/_1}}]]\n"
     ]
    }
   ],
   "source": [
    "# Variables to hold some training status\n",
    "epoch_number = 0\n",
    "lowest_loss = np.inf\n",
    "best_f1 = 0.\n",
    "# Training loop\n",
    "for epoch in tqdm(range(MAX_EPOCHS)):\n",
    "    running_loss = 0.\n",
    "    for i, data in enumerate(ds_train):\n",
    "        # Every data instance is an input & label pair\n",
    "        inputs, labels = data\n",
    "        # Create GradientTape for recording operations for automatic differentiation\n",
    "        with tf.GradientTape() as tape:\n",
    "            # Make predictions for this batch\n",
    "            # training=True is only needed if there are layers with different\n",
    "            # behavior during training versus inference (e.g. Dropout).\n",
    "            outputs = model(inputs, training=True)\n",
    "            # Compute the loss\n",
    "            loss = loss_fn(labels, outputs)\n",
    "        # Compute the gradients\n",
    "        gradients = tape.gradient(loss, model.trainable_variables)\n",
    "        # Adjust learning weights\n",
    "        optimizer.apply_gradients(zip(gradients, model.trainable_variables))\n",
    "        # Gather data and report\n",
    "        running_loss += loss.numpy()\n",
    "    # Calculate the average training loss\n",
    "    avg_loss = running_loss / (i + 1)\n",
    "\n",
    "    # Model validation part\n",
    "    running_vloss = 0.0\n",
    "    y_true = []\n",
    "    y_pred = []\n",
    "    for i, vdata in enumerate(ds_val):\n",
    "        vinputs, vlabels = vdata\n",
    "        y_true.extend(vlabels.numpy().tolist())\n",
    "        # We don't need gradients for the model validation process\n",
    "        # training=False is only needed if there are layers with different\n",
    "        # behavior during training versus inference (e.g. Dropout).\n",
    "        voutputs = model(vinputs, training=False)\n",
    "        vloss = loss_fn(vlabels, voutputs)\n",
    "        running_vloss += vloss.numpy()\n",
    "        # the class with the highest energy is what we choose as prediction\n",
    "        predicted = tf.math.argmax(voutputs, axis=1)\n",
    "        y_pred.extend(predicted.numpy().tolist())\n",
    "\n",
    "    # Calculate the average validation loss\n",
    "    avg_vloss = running_vloss / (i + 1)\n",
    "    # Calculate our classification metrics\n",
    "    acc = accuracy_score(y_true, y_pred)\n",
    "    f1 = f1_score(y_true, y_pred, average=\"weighted\")\n",
    "\n",
    "    # Log the running loss averaged per batch\n",
    "    # for both training and validation\n",
    "    tf.summary.scalar('train/loss', avg_loss, epoch_number + 1)\n",
    "    tf.summary.scalar('val/loss', avg_vloss, epoch_number + 1)\n",
    "    tf.summary.scalar('val/acc', acc, epoch_number + 1)\n",
    "    tf.summary.scalar('val/weighted_f1', f1, epoch_number + 1)\n",
    "    tf.summary.flush()\n",
    "\n",
    "\n",
    "    # Track best performance, and save the model's state (weights)\n",
    "    if f1 > best_f1:\n",
    "        best_f1 = f1\n",
    "        model_path = os.path.join(save_dir, 'best')\n",
    "        model.save_weights(model_path)\n",
    "    if avg_vloss < lowest_loss:\n",
    "        lowest_loss = avg_vloss\n",
    "        model_path = os.path.join(save_dir, 'lowest_loss')\n",
    "        model.save_weights(model_path)\n",
    "    model_path = os.path.join(save_dir, 'last')\n",
    "    model.save_weights(model_path)\n",
    "\n",
    "    epoch_number += 1"
   ]
  },
  {
   "cell_type": "markdown",
   "metadata": {},
   "source": [
    "## References\n",
    "[1] https://www.tensorflow.org/tutorials/quickstart/advanced\n",
    "\n",
    "[2] https://www.tensorflow.org/tensorboard/scalars_and_keras\n",
    "\n",
    "[3] https://www.tensorflow.org/tutorials/keras/save_and_load\n"
   ]
  },
  {
   "cell_type": "markdown",
   "metadata": {},
   "source": []
  }
 ],
 "metadata": {
  "kernelspec": {
   "display_name": "Python 3.8.10 ('ai_class')",
   "language": "python",
   "name": "python3"
  },
  "language_info": {
   "codemirror_mode": {
    "name": "ipython",
    "version": 3
   },
   "file_extension": ".py",
   "mimetype": "text/x-python",
   "name": "python",
   "nbconvert_exporter": "python",
   "pygments_lexer": "ipython3",
   "version": "3.8.10"
  },
  "orig_nbformat": 4,
  "vscode": {
   "interpreter": {
    "hash": "45806f2a31fc2394908bf2aae38bc8f96498b1e9c39d8308e884e6256764b6c9"
   }
  }
 },
 "nbformat": 4,
 "nbformat_minor": 2
}
